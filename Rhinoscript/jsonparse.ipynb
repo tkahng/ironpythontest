{
 "cells": [
  {
   "cell_type": "code",
   "execution_count": 7,
   "metadata": {},
   "outputs": [],
   "source": [
    "import pandas as pd\n",
    "import json\n",
    "pd.set_option('display.max_columns', None)"
   ]
  },
  {
   "cell_type": "code",
   "execution_count": 8,
   "metadata": {},
   "outputs": [],
   "source": [
    "f_in = open(r\"D:\\GitHub\\ironpythontest\\Rhinoscript\\objsDict.json\", 'r')"
   ]
  },
  {
   "cell_type": "code",
   "execution_count": 9,
   "metadata": {},
   "outputs": [],
   "source": [
    "objsdict = json.load(f_in)"
   ]
  },
  {
   "cell_type": "code",
   "execution_count": 11,
   "metadata": {},
   "outputs": [
    {
     "name": "stdout",
     "output_type": "stream",
     "text": [
      "<class 'dict'>\n"
     ]
    }
   ],
   "source": [
    "print(type(objsdict))"
   ]
  },
  {
   "cell_type": "code",
   "execution_count": 12,
   "metadata": {},
   "outputs": [
    {
     "name": "stdout",
     "output_type": "stream",
     "text": [
      "dict_keys(['objs'])\n"
     ]
    }
   ],
   "source": [
    "print(objsdict.keys())"
   ]
  },
  {
   "cell_type": "code",
   "execution_count": 13,
   "metadata": {},
   "outputs": [
    {
     "name": "stdout",
     "output_type": "stream",
     "text": [
      "{'level': '12', 'height': '2.9', 'function': 'shaft', 'grade': 'ag', 'class': 'na', 'areapy': '1.6', 'area': '5.28', 'usage': 'core'}\n"
     ]
    }
   ],
   "source": [
    "print(objsdict['objs'][0])"
   ]
  },
  {
   "cell_type": "code",
   "execution_count": 14,
   "metadata": {},
   "outputs": [],
   "source": [
    "df = pd.DataFrame.from_records(objsdict['objs'])"
   ]
  },
  {
   "cell_type": "code",
   "execution_count": 15,
   "metadata": {},
   "outputs": [
    {
     "data": {
      "text/html": [
       "<div>\n",
       "<style scoped>\n",
       "    .dataframe tbody tr th:only-of-type {\n",
       "        vertical-align: middle;\n",
       "    }\n",
       "\n",
       "    .dataframe tbody tr th {\n",
       "        vertical-align: top;\n",
       "    }\n",
       "\n",
       "    .dataframe thead th {\n",
       "        text-align: right;\n",
       "    }\n",
       "</style>\n",
       "<table border=\"1\" class=\"dataframe\">\n",
       "  <thead>\n",
       "    <tr style=\"text-align: right;\">\n",
       "      <th></th>\n",
       "      <th>level</th>\n",
       "      <th>height</th>\n",
       "      <th>function</th>\n",
       "      <th>grade</th>\n",
       "      <th>class</th>\n",
       "      <th>areapy</th>\n",
       "      <th>area</th>\n",
       "      <th>usage</th>\n",
       "    </tr>\n",
       "  </thead>\n",
       "  <tbody>\n",
       "    <tr>\n",
       "      <th>0</th>\n",
       "      <td>12</td>\n",
       "      <td>2.9</td>\n",
       "      <td>shaft</td>\n",
       "      <td>ag</td>\n",
       "      <td>na</td>\n",
       "      <td>1.6</td>\n",
       "      <td>5.28</td>\n",
       "      <td>core</td>\n",
       "    </tr>\n",
       "    <tr>\n",
       "      <th>1</th>\n",
       "      <td>18</td>\n",
       "      <td>3.0</td>\n",
       "      <td>shaft</td>\n",
       "      <td>ag</td>\n",
       "      <td>na</td>\n",
       "      <td>0.19</td>\n",
       "      <td>0.63</td>\n",
       "      <td>core</td>\n",
       "    </tr>\n",
       "    <tr>\n",
       "      <th>2</th>\n",
       "      <td>6</td>\n",
       "      <td>4.0</td>\n",
       "      <td>shaft</td>\n",
       "      <td>ag</td>\n",
       "      <td>na</td>\n",
       "      <td>1.33</td>\n",
       "      <td>4.41</td>\n",
       "      <td>core</td>\n",
       "    </tr>\n",
       "    <tr>\n",
       "      <th>3</th>\n",
       "      <td>17</td>\n",
       "      <td>3.4</td>\n",
       "      <td>shaft</td>\n",
       "      <td>ag</td>\n",
       "      <td>na</td>\n",
       "      <td>0.19</td>\n",
       "      <td>0.63</td>\n",
       "      <td>core</td>\n",
       "    </tr>\n",
       "    <tr>\n",
       "      <th>4</th>\n",
       "      <td>8</td>\n",
       "      <td>4.0</td>\n",
       "      <td>public</td>\n",
       "      <td>ag</td>\n",
       "      <td>rent</td>\n",
       "      <td>2.23</td>\n",
       "      <td>7.38</td>\n",
       "      <td>core</td>\n",
       "    </tr>\n",
       "  </tbody>\n",
       "</table>\n",
       "</div>"
      ],
      "text/plain": [
       "  level height function grade class areapy  area usage\n",
       "0    12    2.9    shaft    ag    na    1.6  5.28  core\n",
       "1    18    3.0    shaft    ag    na   0.19  0.63  core\n",
       "2     6    4.0    shaft    ag    na   1.33  4.41  core\n",
       "3    17    3.4    shaft    ag    na   0.19  0.63  core\n",
       "4     8    4.0   public    ag  rent   2.23  7.38  core"
      ]
     },
     "execution_count": 15,
     "metadata": {},
     "output_type": "execute_result"
    }
   ],
   "source": [
    "df.head()"
   ]
  },
  {
   "cell_type": "code",
   "execution_count": 16,
   "metadata": {},
   "outputs": [
    {
     "name": "stdout",
     "output_type": "stream",
     "text": [
      "<class 'pandas.core.frame.DataFrame'>\n",
      "RangeIndex: 422 entries, 0 to 421\n",
      "Data columns (total 8 columns):\n",
      "level       422 non-null object\n",
      "height      422 non-null object\n",
      "function    422 non-null object\n",
      "grade       422 non-null object\n",
      "class       422 non-null object\n",
      "areapy      422 non-null object\n",
      "area        422 non-null object\n",
      "usage       422 non-null object\n",
      "dtypes: object(8)\n",
      "memory usage: 26.5+ KB\n"
     ]
    }
   ],
   "source": [
    "df.info()"
   ]
  },
  {
   "cell_type": "code",
   "execution_count": 17,
   "metadata": {},
   "outputs": [],
   "source": [
    "df[['height', 'areapy', 'area']] = df[['height', 'areapy', 'area']].apply(pd.to_numeric)"
   ]
  },
  {
   "cell_type": "code",
   "execution_count": 18,
   "metadata": {},
   "outputs": [
    {
     "name": "stdout",
     "output_type": "stream",
     "text": [
      "<class 'pandas.core.frame.DataFrame'>\n",
      "RangeIndex: 422 entries, 0 to 421\n",
      "Data columns (total 8 columns):\n",
      "level       422 non-null object\n",
      "height      422 non-null float64\n",
      "function    422 non-null object\n",
      "grade       422 non-null object\n",
      "class       422 non-null object\n",
      "areapy      422 non-null float64\n",
      "area        422 non-null float64\n",
      "usage       422 non-null object\n",
      "dtypes: float64(3), object(5)\n",
      "memory usage: 26.5+ KB\n"
     ]
    }
   ],
   "source": [
    "df.info()"
   ]
  },
  {
   "cell_type": "code",
   "execution_count": 19,
   "metadata": {},
   "outputs": [
    {
     "data": {
      "text/html": [
       "<div>\n",
       "<style scoped>\n",
       "    .dataframe tbody tr th:only-of-type {\n",
       "        vertical-align: middle;\n",
       "    }\n",
       "\n",
       "    .dataframe tbody tr th {\n",
       "        vertical-align: top;\n",
       "    }\n",
       "\n",
       "    .dataframe thead th {\n",
       "        text-align: right;\n",
       "    }\n",
       "</style>\n",
       "<table border=\"1\" class=\"dataframe\">\n",
       "  <thead>\n",
       "    <tr style=\"text-align: right;\">\n",
       "      <th></th>\n",
       "      <th>level</th>\n",
       "      <th>height</th>\n",
       "      <th>function</th>\n",
       "      <th>grade</th>\n",
       "      <th>class</th>\n",
       "      <th>areapy</th>\n",
       "      <th>area</th>\n",
       "      <th>usage</th>\n",
       "    </tr>\n",
       "  </thead>\n",
       "  <tbody>\n",
       "    <tr>\n",
       "      <th>0</th>\n",
       "      <td>12</td>\n",
       "      <td>2.9</td>\n",
       "      <td>shaft</td>\n",
       "      <td>ag</td>\n",
       "      <td>na</td>\n",
       "      <td>1.60</td>\n",
       "      <td>5.28</td>\n",
       "      <td>core</td>\n",
       "    </tr>\n",
       "    <tr>\n",
       "      <th>1</th>\n",
       "      <td>18</td>\n",
       "      <td>3.0</td>\n",
       "      <td>shaft</td>\n",
       "      <td>ag</td>\n",
       "      <td>na</td>\n",
       "      <td>0.19</td>\n",
       "      <td>0.63</td>\n",
       "      <td>core</td>\n",
       "    </tr>\n",
       "    <tr>\n",
       "      <th>2</th>\n",
       "      <td>6</td>\n",
       "      <td>4.0</td>\n",
       "      <td>shaft</td>\n",
       "      <td>ag</td>\n",
       "      <td>na</td>\n",
       "      <td>1.33</td>\n",
       "      <td>4.41</td>\n",
       "      <td>core</td>\n",
       "    </tr>\n",
       "    <tr>\n",
       "      <th>3</th>\n",
       "      <td>17</td>\n",
       "      <td>3.4</td>\n",
       "      <td>shaft</td>\n",
       "      <td>ag</td>\n",
       "      <td>na</td>\n",
       "      <td>0.19</td>\n",
       "      <td>0.63</td>\n",
       "      <td>core</td>\n",
       "    </tr>\n",
       "    <tr>\n",
       "      <th>4</th>\n",
       "      <td>8</td>\n",
       "      <td>4.0</td>\n",
       "      <td>public</td>\n",
       "      <td>ag</td>\n",
       "      <td>rent</td>\n",
       "      <td>2.23</td>\n",
       "      <td>7.38</td>\n",
       "      <td>core</td>\n",
       "    </tr>\n",
       "  </tbody>\n",
       "</table>\n",
       "</div>"
      ],
      "text/plain": [
       "  level  height function grade class  areapy  area usage\n",
       "0    12     2.9    shaft    ag    na    1.60  5.28  core\n",
       "1    18     3.0    shaft    ag    na    0.19  0.63  core\n",
       "2     6     4.0    shaft    ag    na    1.33  4.41  core\n",
       "3    17     3.4    shaft    ag    na    0.19  0.63  core\n",
       "4     8     4.0   public    ag  rent    2.23  7.38  core"
      ]
     },
     "execution_count": 19,
     "metadata": {},
     "output_type": "execute_result"
    }
   ],
   "source": [
    "df.head()"
   ]
  },
  {
   "cell_type": "code",
   "execution_count": null,
   "metadata": {},
   "outputs": [],
   "source": []
  }
 ],
 "metadata": {
  "kernelspec": {
   "display_name": "Python 3",
   "language": "python",
   "name": "python3"
  },
  "language_info": {
   "codemirror_mode": {
    "name": "ipython",
    "version": 3
   },
   "file_extension": ".py",
   "mimetype": "text/x-python",
   "name": "python",
   "nbconvert_exporter": "python",
   "pygments_lexer": "ipython3",
   "version": "3.7.3"
  }
 },
 "nbformat": 4,
 "nbformat_minor": 4
}
